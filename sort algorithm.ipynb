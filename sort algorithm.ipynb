{
 "cells": [
  {
   "cell_type": "code",
   "execution_count": 1,
   "metadata": {},
   "outputs": [],
   "source": [
    "import numpy as np\n",
    "array=np.random.permutation(10)"
   ]
  },
  {
   "cell_type": "code",
   "execution_count": 4,
   "metadata": {},
   "outputs": [],
   "source": [
    "#插入排序\n",
    "def insert_sort(array):\n",
    "    n=len(array)\n",
    "    for j in range(1,n):\n",
    "        i=j-1\n",
    "        key=array[j]\n",
    "        while i>=0 and array[i]>key:\n",
    "            array[i+1]=array[i]\n",
    "            i-=1\n",
    "        array[i+1]=key\n",
    "    return array"
   ]
  },
  {
   "cell_type": "code",
   "execution_count": 5,
   "metadata": {},
   "outputs": [
    {
     "name": "stdout",
     "output_type": "stream",
     "text": [
      "[8 9 3 4 6 0 5 1 7 2]\n",
      "[0 1 2 3 4 5 6 7 8 9]\n"
     ]
    }
   ],
   "source": [
    "print(array)\n",
    "print(insert_sort(array))"
   ]
  },
  {
   "cell_type": "code",
   "execution_count": 9,
   "metadata": {},
   "outputs": [
    {
     "name": "stdout",
     "output_type": "stream",
     "text": [
      "[1 3 2 5 6 9 4 0 8 7]\n",
      "[0 1 2 3 4 5 6 7 8 9]\n"
     ]
    }
   ],
   "source": [
    "#选择排序\n",
    "def selection_sort(array):\n",
    "    n=len(array)\n",
    "    for i in range(n):\n",
    "        num=array[i]\n",
    "        ind=i\n",
    "        j=i\n",
    "        while j<n:\n",
    "            if array[j]<num:\n",
    "                num=array[j]\n",
    "                ind=j\n",
    "            j+=1\n",
    "        array[ind]=array[i]\n",
    "        array[i]=num\n",
    "    return array\n",
    "array=np.random.permutation(10)\n",
    "print(array)\n",
    "print(selection_sort(array))"
   ]
  },
  {
   "cell_type": "code",
   "execution_count": 31,
   "metadata": {},
   "outputs": [
    {
     "name": "stdout",
     "output_type": "stream",
     "text": [
      "[1. 2. 3. 4. 5. 6.]\n",
      "[0. 1. 2. 3. 4. 5. 6. 7. 8. 9.]\n"
     ]
    }
   ],
   "source": [
    "# 合并排序\n",
    "def merge(arr1,arr2):\n",
    "    i,j=0,0\n",
    "    arr1=np.append(arr1,np.inf)\n",
    "    arr2=np.append(arr2,np.inf)\n",
    "    n=len(arr1)+len(arr2)-2\n",
    "    array=[]\n",
    "    while i+j<n:\n",
    "        if arr1[i]<arr2[j]:\n",
    "            array=np.append(array,arr1[i])\n",
    "            i+=1\n",
    "        else:\n",
    "            array=np.append(array,arr2[j])\n",
    "            j+=1\n",
    "    return array\n",
    "arr1=[1,3,5]\n",
    "arr2=[2,4,6]\n",
    "print(merge(arr1,arr2))\n",
    "def merge_sort(array):\n",
    "    if len(array)<2:\n",
    "        return array\n",
    "    mid=round(len(array)/2)\n",
    "    left=merge_sort(array[0:mid])\n",
    "    right=merge_sort(array[mid:])\n",
    "    return merge(left,right)\n",
    "array=np.random.permutation(10)\n",
    "print(merge_sort(array))"
   ]
  },
  {
   "cell_type": "code",
   "execution_count": 37,
   "metadata": {},
   "outputs": [
    {
     "data": {
      "text/plain": [
       "[0, 1, 2, 3, 4, 5, 6, 7, 8, 9]"
      ]
     },
     "execution_count": 37,
     "metadata": {},
     "output_type": "execute_result"
    }
   ],
   "source": [
    "# 快速排序\n",
    "def quick_sort(array):\n",
    "    if len(array)<2:\n",
    "        return array\n",
    "    key=array[0]\n",
    "    left=[i for i in array[1:] if i<key]\n",
    "    right=[i for i in array[1:] if i>key]\n",
    "    return quick_sort(left)+[key]+quick_sort(right)\n",
    "array=np.random.permutation(10)\n",
    "quick_sort(array)"
   ]
  },
  {
   "cell_type": "code",
   "execution_count": 38,
   "metadata": {},
   "outputs": [
    {
     "data": {
      "text/plain": [
       "[3, 0, 3, 3, 3, 1, 2, 3, 3, 3]"
      ]
     },
     "execution_count": 38,
     "metadata": {},
     "output_type": "execute_result"
    }
   ],
   "source": [
    "key=3\n",
    "[i if i <3 else 3 for i in array ]"
   ]
  },
  {
   "cell_type": "code",
   "execution_count": 39,
   "metadata": {},
   "outputs": [
    {
     "data": {
      "text/plain": [
       "array([3, 0, 9, 6, 4, 1, 2, 7, 5, 8])"
      ]
     },
     "execution_count": 39,
     "metadata": {},
     "output_type": "execute_result"
    }
   ],
   "source": [
    "array"
   ]
  },
  {
   "cell_type": "code",
   "execution_count": 27,
   "metadata": {},
   "outputs": [
    {
     "data": {
      "text/plain": [
       "array([ 1.,  2.,  3., inf,  0.])"
      ]
     },
     "execution_count": 27,
     "metadata": {},
     "output_type": "execute_result"
    }
   ],
   "source": [
    "np.append(b,[0])"
   ]
  },
  {
   "cell_type": "code",
   "execution_count": null,
   "metadata": {},
   "outputs": [],
   "source": []
  }
 ],
 "metadata": {
  "kernelspec": {
   "display_name": "Python 3",
   "language": "python",
   "name": "python3"
  },
  "language_info": {
   "codemirror_mode": {
    "name": "ipython",
    "version": 3
   },
   "file_extension": ".py",
   "mimetype": "text/x-python",
   "name": "python",
   "nbconvert_exporter": "python",
   "pygments_lexer": "ipython3",
   "version": "3.7.6"
  }
 },
 "nbformat": 4,
 "nbformat_minor": 4
}
