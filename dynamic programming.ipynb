{
 "cells": [
  {
   "cell_type": "code",
   "execution_count": 2,
   "metadata": {
    "collapsed": false,
    "nbpresent": {
     "id": "7e2fb4c3-c251-46fc-9624-3fa4441be41e"
    },
    "scrolled": true
   },
   "outputs": [
    {
     "name": "stdout",
     "output_type": "stream",
     "text": [
      "[[   0.    0.    0.    0.    0.]\n",
      " [   0. 1500. 1500. 1500. 2000.]\n",
      " [   0. 1500. 1500. 1500. 3500.]\n",
      " [   0. 1500. 1500. 2000. 3500.]\n",
      " [   0. 1500. 3000. 3500. 4000.]]\n"
     ]
    }
   ],
   "source": [
    "import numpy as np\n",
    "w = [1, 4, 3, 1]  \n",
    "p = [1500, 3000, 2000, 2000]   \n",
    "m = 4 \n",
    "def dynamic(w,p,W):\n",
    "    n=len(w)\n",
    "    # 定义i行j列矩阵，表示容量i下前j个物品能装的最大价值\n",
    "    dp=np.zeros((n+1,n+1))\n",
    "    for i in range(1,n+1):\n",
    "        for j in range(1,n+1):\n",
    "            if i>=w[j-1]:\n",
    "                dp[i,j]=max(dp[i,j-1],dp[i-w[j-1],j-1]+p[j-1])\n",
    "            else:\n",
    "                dp[i,j]=dp[i,j-1]\n",
    "    return dp     \n",
    "dp=dynamic(w,p,m)\n",
    "# error:索引为负时记录前面数据未报错\n",
    "print(dp)"
   ]
  },
  {
   "cell_type": "code",
   "execution_count": 20,
   "metadata": {
    "collapsed": false
   },
   "outputs": [
    {
     "name": "stdout",
     "output_type": "stream",
     "text": [
      "14.0\n"
     ]
    }
   ],
   "source": [
    "#扔鸡蛋问题，100层楼有两个鸡蛋，求为找到恰好鸡蛋扔碎掉的楼层数的最小测试次数\n",
    "n,m=100,2\n",
    "def drop(n,m):\n",
    "    #定义n层楼m个鸡蛋情况下，最小测试次数矩阵\n",
    "    dp=np.zeros((n+1,m+1))\n",
    "    dp[:,1]=[i for i in range(n+1)]\n",
    "    dp[1,:]=1\n",
    "    for i in range(1,n+1):\n",
    "        for j in range(2,m+1):\n",
    "            min_i=100       \n",
    "            for k in range(1,i+1):\n",
    "                now_k=1+max(dp[i-k,j],dp[k-1,j-1])\n",
    "                if now_k<min_i:\n",
    "                    min_i=now_k\n",
    "            dp[i,j]=min_i\n",
    "    return dp\n",
    "print(drop(100,2)[100,2])\n",
    "             "
   ]
  },
  {
   "cell_type": "code",
   "execution_count": 3,
   "metadata": {
    "collapsed": false
   },
   "outputs": [],
   "source": [
    "a=np.zeros((3,3))\n",
    "a[:,1]=[i for i in range(3)]"
   ]
  },
  {
   "cell_type": "code",
   "execution_count": 4,
   "metadata": {
    "collapsed": false
   },
   "outputs": [
    {
     "data": {
      "text/plain": [
       "array([[0., 0., 0.],\n",
       "       [0., 1., 0.],\n",
       "       [0., 2., 0.]])"
      ]
     },
     "execution_count": 4,
     "metadata": {},
     "output_type": "execute_result"
    }
   ],
   "source": [
    "a"
   ]
  },
  {
   "cell_type": "code",
   "execution_count": 6,
   "metadata": {
    "collapsed": false
   },
   "outputs": [
    {
     "data": {
      "text/plain": [
       "[2]"
      ]
     },
     "execution_count": 6,
     "metadata": {},
     "output_type": "execute_result"
    }
   ],
   "source": [
    "list(range(2,3))"
   ]
  },
  {
   "cell_type": "markdown",
   "metadata": {},
   "source": []
  },
  {
   "cell_type": "code",
   "execution_count": 24,
   "metadata": {
    "collapsed": false
   },
   "outputs": [
    {
     "data": {
      "text/plain": [
       "6"
      ]
     },
     "execution_count": 24,
     "metadata": {},
     "output_type": "execute_result"
    }
   ],
   "source": [
    "5^3"
   ]
  },
  {
   "cell_type": "code",
   "execution_count": 17,
   "metadata": {
    "collapsed": false
   },
   "outputs": [
    {
     "name": "stdout",
     "output_type": "stream",
     "text": [
      "(array([[    0., 15750.,  7875.,  9375., 11875., 15125.],\n",
      "       [    0.,     0.,  2625.,  4375.,  7125., 10500.],\n",
      "       [    0.,     0.,     0.,   750.,  2500.,  5375.],\n",
      "       [    0.,     0.,     0.,     0.,  1000.,  3500.],\n",
      "       [    0.,     0.,     0.,     0.,     0.,  5000.],\n",
      "       [    0.,     0.,     0.,     0.,     0.,     0.]]), [2, 4], array([[0, 0, 0, 2, 2, 2],\n",
      "       [0, 0, 0, 2, 2, 2],\n",
      "       [0, 0, 0, 0, 0, 0],\n",
      "       [0, 0, 0, 0, 0, 4],\n",
      "       [0, 0, 0, 0, 0, 0],\n",
      "       [0, 0, 0, 0, 0, 0]]))\n"
     ]
    }
   ],
   "source": [
    "# 矩阵连乘问题\n",
    "import numpy as np\n",
    "p=[30, 35, 15, 5, 10, 20, 25]\n",
    "def matrixchain(p):\n",
    "    n=len(p)-1\n",
    "    matmul=np.zeros((n,n))\n",
    "    record=np.zeros((n,n),dtype='int32')\n",
    "    for i in range(n-1,-1,-1):\n",
    "        for j in range(i+1,n):\n",
    "            matm=1e9\n",
    "            rk=0\n",
    "            for k in range(i,j):                \n",
    "                matk=p[i]*p[k+1]*p[j+1]\n",
    "                matk=matmul[i,k]+matmul[k+1,j]+matk\n",
    "                if matm>matk:\n",
    "                    matm=matk\n",
    "                    if k>i and k<j:\n",
    "                        rk=k\n",
    "            matmul[i,j]=matm\n",
    "            record[i,j]=rk\n",
    "    rlist=[]\n",
    "    i,j=0,n-1\n",
    "    kr(record,rlist,i,j)\n",
    "        \n",
    "    return matmul,rlist,record\n",
    "def kr(record,rlist,i,j):\n",
    "    if i>j+1:\n",
    "        return None\n",
    "    kpi=record[i,j]\n",
    "    if kpi>i and kpi<j:\n",
    "        rlist.append(kpi)\n",
    "        kr(record,rlist,i,kpi)\n",
    "        kr(record,rlist,kpi+1,j)\n",
    "    return None\n",
    "print(matrixchain(p))"
   ]
  },
  {
   "cell_type": "code",
   "execution_count": 4,
   "metadata": {
    "collapsed": false
   },
   "outputs": [
    {
     "data": {
      "text/plain": [
       "[5, 4, 3, 2, 1]"
      ]
     },
     "execution_count": 4,
     "metadata": {},
     "output_type": "execute_result"
    }
   ],
   "source": [
    "list(range(5,0,-1))"
   ]
  },
  {
   "cell_type": "code",
   "execution_count": 18,
   "metadata": {
    "collapsed": false
   },
   "outputs": [
    {
     "ename": "NameError",
     "evalue": "name 'record' is not defined",
     "output_type": "error",
     "traceback": [
      "\u001b[0;31m---------------------------------------------------------------------------\u001b[0m",
      "\u001b[0;31mNameError\u001b[0m                                 Traceback (most recent call last)",
      "\u001b[0;32m<ipython-input-18-914c719a7040>\u001b[0m in \u001b[0;36m<module>\u001b[0;34m()\u001b[0m\n\u001b[0;32m----> 1\u001b[0;31m \u001b[0mrecord\u001b[0m\u001b[1;33m\u001b[0m\u001b[0m\n\u001b[0m",
      "\u001b[0;31mNameError\u001b[0m: name 'record' is not defined"
     ]
    }
   ],
   "source": [
    "record"
   ]
  },
  {
   "cell_type": "code",
   "execution_count": null,
   "metadata": {
    "collapsed": true
   },
   "outputs": [],
   "source": []
  }
 ],
 "metadata": {
  "anaconda-cloud": {},
  "kernelspec": {
   "display_name": "Python [default]",
   "language": "python",
   "name": "python3"
  },
  "language_info": {
   "codemirror_mode": {
    "name": "ipython",
    "version": 3
   },
   "file_extension": ".py",
   "mimetype": "text/x-python",
   "name": "python",
   "nbconvert_exporter": "python",
   "pygments_lexer": "ipython3",
   "version": "3.5.6"
  }
 },
 "nbformat": 4,
 "nbformat_minor": 4
}
