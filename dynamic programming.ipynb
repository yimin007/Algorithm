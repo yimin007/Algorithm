{
 "cells": [
  {
   "cell_type": "code",
   "execution_count": 2,
   "metadata": {
    "collapsed": false,
    "nbpresent": {
     "id": "7e2fb4c3-c251-46fc-9624-3fa4441be41e"
    },
    "scrolled": true
   },
   "outputs": [
    {
     "name": "stdout",
     "output_type": "stream",
     "text": [
      "[[   0.    0.    0.    0.    0.]\n",
      " [   0. 1500. 1500. 1500. 2000.]\n",
      " [   0. 1500. 1500. 1500. 3500.]\n",
      " [   0. 1500. 1500. 2000. 3500.]\n",
      " [   0. 1500. 3000. 3500. 4000.]]\n"
     ]
    }
   ],
   "source": [
    "import numpy as np\n",
    "w = [1, 4, 3, 1]  \n",
    "p = [1500, 3000, 2000, 2000]   \n",
    "m = 4 \n",
    "def dynamic(w,p,W):\n",
    "    n=len(w)\n",
    "    # 定义i行j列矩阵，表示容量i下前j个物品能装的最大价值\n",
    "    dp=np.zeros((n+1,n+1))\n",
    "    for i in range(1,n+1):\n",
    "        for j in range(1,n+1):\n",
    "            if i>=w[j-1]:\n",
    "                dp[i,j]=max(dp[i,j-1],dp[i-w[j-1],j-1]+p[j-1])\n",
    "            else:\n",
    "                dp[i,j]=dp[i,j-1]\n",
    "    return dp     \n",
    "dp=dynamic(w,p,m)\n",
    "# error:索引为负时记录前面数据未报错\n",
    "print(dp)"
   ]
  },
  {
   "cell_type": "code",
   "execution_count": 20,
   "metadata": {
    "collapsed": false
   },
   "outputs": [
    {
     "name": "stdout",
     "output_type": "stream",
     "text": [
      "14.0\n"
     ]
    }
   ],
   "source": [
    "#扔鸡蛋问题，100层楼有两个鸡蛋，求为找到恰好鸡蛋扔碎掉的楼层数的最小测试次数\n",
    "n,m=100,2\n",
    "def drop(n,m):\n",
    "    #定义n层楼m个鸡蛋情况下，最小测试次数矩阵\n",
    "    dp=np.zeros((n+1,m+1))\n",
    "    dp[:,1]=[i for i in range(n+1)]\n",
    "    dp[1,:]=1\n",
    "    for i in range(1,n+1):\n",
    "        for j in range(2,m+1):\n",
    "            min_i=100       \n",
    "            for k in range(1,i+1):\n",
    "                now_k=1+max(dp[i-k,j],dp[k-1,j-1])\n",
    "                if now_k<min_i:\n",
    "                    min_i=now_k\n",
    "            dp[i,j]=min_i\n",
    "    return dp\n",
    "print(drop(100,2)[100,2])\n",
    "             "
   ]
  },
  {
   "cell_type": "code",
   "execution_count": 3,
   "metadata": {
    "collapsed": false
   },
   "outputs": [],
   "source": [
    "a=np.zeros((3,3))\n",
    "a[:,1]=[i for i in range(3)]"
   ]
  },
  {
   "cell_type": "code",
   "execution_count": 4,
   "metadata": {
    "collapsed": false
   },
   "outputs": [
    {
     "data": {
      "text/plain": [
       "array([[0., 0., 0.],\n",
       "       [0., 1., 0.],\n",
       "       [0., 2., 0.]])"
      ]
     },
     "execution_count": 4,
     "metadata": {},
     "output_type": "execute_result"
    }
   ],
   "source": [
    "a"
   ]
  },
  {
   "cell_type": "code",
   "execution_count": 6,
   "metadata": {
    "collapsed": false
   },
   "outputs": [
    {
     "data": {
      "text/plain": [
       "[2]"
      ]
     },
     "execution_count": 6,
     "metadata": {},
     "output_type": "execute_result"
    }
   ],
   "source": [
    "list(range(2,3))"
   ]
  },
  {
   "cell_type": "markdown",
   "metadata": {},
   "source": []
  },
  {
   "cell_type": "code",
   "execution_count": 24,
   "metadata": {
    "collapsed": false
   },
   "outputs": [
    {
     "data": {
      "text/plain": [
       "6"
      ]
     },
     "execution_count": 24,
     "metadata": {},
     "output_type": "execute_result"
    }
   ],
   "source": [
    "5^3"
   ]
  },
  {
   "cell_type": "code",
   "execution_count": null,
   "metadata": {
    "collapsed": true
   },
   "outputs": [],
   "source": []
  }
 ],
 "metadata": {
  "anaconda-cloud": {},
  "kernelspec": {
   "display_name": "Python [default]",
   "language": "python",
   "name": "python3"
  },
  "language_info": {
   "codemirror_mode": {
    "name": "ipython",
    "version": 3
   },
   "file_extension": ".py",
   "mimetype": "text/x-python",
   "name": "python",
   "nbconvert_exporter": "python",
   "pygments_lexer": "ipython3",
   "version": "3.5.6"
  }
 },
 "nbformat": 4,
 "nbformat_minor": 4
}
